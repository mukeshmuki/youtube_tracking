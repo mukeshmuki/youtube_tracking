{
 "cells": [
  {
   "cell_type": "code",
   "execution_count": 25,
   "id": "65f2bb59-ece1-43b0-995a-4d23b31a883e",
   "metadata": {},
   "outputs": [],
   "source": [
    "from googleapiclient.discovery import build\n",
    "import pandas as pd\n",
    "\n",
    "youTubeApiKey = \"\" ###Enter the API Key\n",
    "youtube = build('youtube', 'v3', developerKey=youTubeApiKey)"
   ]
  },
  {
   "cell_type": "code",
   "execution_count": 36,
   "id": "7d6cca62-a63a-4dcb-b047-817292b8018a",
   "metadata": {},
   "outputs": [
    {
     "name": "stdout",
     "output_type": "stream",
     "text": [
      "Total items :  10\n"
     ]
    }
   ],
   "source": [
    "#Print the total number of results\n",
    "request = youtube.search().list(q='ias',part='id, snippet',type='video', maxResults=10,  order=\"relevance\")\n",
    "res = request.execute()\n",
    "print('Total items : ',len(res['items']))"
   ]
  },
  {
   "cell_type": "code",
   "execution_count": 31,
   "id": "3151daf6-d62a-4753-9058-0ad74954c861",
   "metadata": {
    "collapsed": true,
    "jupyter": {
     "outputs_hidden": true
    },
    "tags": []
   },
   "outputs": [
    {
     "data": {
      "text/plain": [
       "{'kind': 'youtube#searchListResponse',\n",
       " 'etag': 'HDGl_FL_8dRxTKfYYw-GvSvxNVE',\n",
       " 'nextPageToken': 'CAoQAA',\n",
       " 'regionCode': 'IN',\n",
       " 'pageInfo': {'totalResults': 1000000, 'resultsPerPage': 10},\n",
       " 'items': [{'kind': 'youtube#searchResult',\n",
       "   'etag': 'Y0a19QQnP17Ua2F86fto7dlWhXA',\n",
       "   'id': {'kind': 'youtube#video', 'videoId': 'NRtQnVRuLXo'},\n",
       "   'snippet': {'publishedAt': '2022-10-31T04:37:39Z',\n",
       "    'channelId': 'UCZNNx4KYmCkwxCLdsHyWqQA',\n",
       "    'title': '🚨JEE 2023 NEET 2023 CUET 2023 Tentative Dates Released - Breaking News 🚨 - Source:TOI',\n",
       "    'description': 'RSVP Form: https://tinyurl.com/RSVPkota2022 JEE 2023/JEE 2024 Telegram: https://t.me/namochat Enroll now for Yogya, ...',\n",
       "    'thumbnails': {'default': {'url': 'https://i.ytimg.com/vi/NRtQnVRuLXo/default.jpg',\n",
       "      'width': 120,\n",
       "      'height': 90},\n",
       "     'medium': {'url': 'https://i.ytimg.com/vi/NRtQnVRuLXo/mqdefault.jpg',\n",
       "      'width': 320,\n",
       "      'height': 180},\n",
       "     'high': {'url': 'https://i.ytimg.com/vi/NRtQnVRuLXo/hqdefault.jpg',\n",
       "      'width': 480,\n",
       "      'height': 360}},\n",
       "    'channelTitle': 'Unacademy JEE',\n",
       "    'liveBroadcastContent': 'none',\n",
       "    'publishTime': '2022-10-31T04:37:39Z'}},\n",
       "  {'kind': 'youtube#searchResult',\n",
       "   'etag': 'Z3g8HqXsL64oVvpALIc0j9q1u_U',\n",
       "   'id': {'kind': 'youtube#video', 'videoId': 'iOTFe_Y9_qI'},\n",
       "   'snippet': {'publishedAt': '2022-10-14T22:09:51Z',\n",
       "    'channelId': 'UCvs8v1B4G9NNWyiZSkPPsXQ',\n",
       "    'title': 'Unacademy CAT Mega Boot Camp | 12 Hours Non-stop Marathon for CAT 2022-23 Aspirants',\n",
       "    'description': 'Win amazing rewards and scholarships worth INR 25 Crores by taking the Unacademy All India Mock Test (AIMT) for CAT.',\n",
       "    'thumbnails': {'default': {'url': 'https://i.ytimg.com/vi/iOTFe_Y9_qI/default.jpg',\n",
       "      'width': 120,\n",
       "      'height': 90},\n",
       "     'medium': {'url': 'https://i.ytimg.com/vi/iOTFe_Y9_qI/mqdefault.jpg',\n",
       "      'width': 320,\n",
       "      'height': 180},\n",
       "     'high': {'url': 'https://i.ytimg.com/vi/iOTFe_Y9_qI/hqdefault.jpg',\n",
       "      'width': 480,\n",
       "      'height': 360}},\n",
       "    'channelTitle': 'Unacademy CAT',\n",
       "    'liveBroadcastContent': 'none',\n",
       "    'publishTime': '2022-10-14T22:09:51Z'}},\n",
       "  {'kind': 'youtube#searchResult',\n",
       "   'etag': 'w6LzaNQRwafqQ9NI4bMXsfjQ5CU',\n",
       "   'id': {'kind': 'youtube#video', 'videoId': 'g-RvcpF4MkQ'},\n",
       "   'snippet': {'publishedAt': '2022-10-27T15:00:10Z',\n",
       "    'channelId': 'UCsnDgWtZdAZfUervHtX-U8A',\n",
       "    'title': 'CA Final FR Marathon | All IND AS | Concepts Alongwith Questions | CA Aakash Kandoi',\n",
       "    'description': 'Crack the First Paper with Exemption! Join FR - All Major Chapters Marathon - https://youtu.be/YhKPkNpaft8 Visit this link to ...',\n",
       "    'thumbnails': {'default': {'url': 'https://i.ytimg.com/vi/g-RvcpF4MkQ/default.jpg',\n",
       "      'width': 120,\n",
       "      'height': 90},\n",
       "     'medium': {'url': 'https://i.ytimg.com/vi/g-RvcpF4MkQ/mqdefault.jpg',\n",
       "      'width': 320,\n",
       "      'height': 180},\n",
       "     'high': {'url': 'https://i.ytimg.com/vi/g-RvcpF4MkQ/hqdefault.jpg',\n",
       "      'width': 480,\n",
       "      'height': 360}},\n",
       "    'channelTitle': 'Unacademy CA Final',\n",
       "    'liveBroadcastContent': 'none',\n",
       "    'publishTime': '2022-10-27T15:00:10Z'}},\n",
       "  {'kind': 'youtube#searchResult',\n",
       "   'etag': '2tyTMDkM5GOnBrqtyRktfdawL3k',\n",
       "   'id': {'kind': 'youtube#video', 'videoId': 'F9jM-eS7wZg'},\n",
       "   'snippet': {'publishedAt': '2022-09-05T15:36:17Z',\n",
       "    'channelId': 'UCx1VY57UmjU76Tgq8YwkklA',\n",
       "    'title': 'Unacademy One | Live Event',\n",
       "    'description': \"Something big is happening on Teachers' Day, 2022! We're taking that #OneStepAhead towards creating new avenues for you to ...\",\n",
       "    'thumbnails': {'default': {'url': 'https://i.ytimg.com/vi/F9jM-eS7wZg/default.jpg',\n",
       "      'width': 120,\n",
       "      'height': 90},\n",
       "     'medium': {'url': 'https://i.ytimg.com/vi/F9jM-eS7wZg/mqdefault.jpg',\n",
       "      'width': 320,\n",
       "      'height': 180},\n",
       "     'high': {'url': 'https://i.ytimg.com/vi/F9jM-eS7wZg/hqdefault.jpg',\n",
       "      'width': 480,\n",
       "      'height': 360}},\n",
       "    'channelTitle': 'Unacademy India',\n",
       "    'liveBroadcastContent': 'none',\n",
       "    'publishTime': '2022-09-05T15:36:17Z'}},\n",
       "  {'kind': 'youtube#searchResult',\n",
       "   'etag': '9AdYd_pJWsrcWbLocXsOBvvhqiE',\n",
       "   'id': {'kind': 'youtube#video', 'videoId': 'fivAuW0dm5I'},\n",
       "   'snippet': {'publishedAt': '2022-05-24T11:14:03Z',\n",
       "    'channelId': 'UCN9qzrsT8gYS2I3tbYVKfcA',\n",
       "    'title': 'Unacademy vs Physics Wallah - HONEST REVIEW with PROOF ⚡',\n",
       "    'description': \"Unacademy Exposed? Is PW enough to Crack JEE? And the entire review of Unacademy and Mr. Alakh Pandey's Physicswallah!\",\n",
       "    'thumbnails': {'default': {'url': 'https://i.ytimg.com/vi/fivAuW0dm5I/default.jpg',\n",
       "      'width': 120,\n",
       "      'height': 90},\n",
       "     'medium': {'url': 'https://i.ytimg.com/vi/fivAuW0dm5I/mqdefault.jpg',\n",
       "      'width': 320,\n",
       "      'height': 180},\n",
       "     'high': {'url': 'https://i.ytimg.com/vi/fivAuW0dm5I/hqdefault.jpg',\n",
       "      'width': 480,\n",
       "      'height': 360}},\n",
       "    'channelTitle': 'Tharun Speaks',\n",
       "    'liveBroadcastContent': 'none',\n",
       "    'publishTime': '2022-05-24T11:14:03Z'}},\n",
       "  {'kind': 'youtube#searchResult',\n",
       "   'etag': 'vhfRMtiv-Uf-6ob0d7-G37qerkg',\n",
       "   'id': {'kind': 'youtube#video', 'videoId': 'pRpqtGFZvqA'},\n",
       "   'snippet': {'publishedAt': '2022-10-15T15:30:07Z',\n",
       "    'channelId': 'UCqriz5XqE-RiTjpVnSlhw_w',\n",
       "    'title': 'Unacademy Compete | Featuring @Flying Beast | Gaurav Taneja | Ritu Taneja',\n",
       "    'description': 'To play Compete, download the Unacademy mobile app: https://bit.ly/3MmY8Os Learners can now engage in a live 1-on-1 battle ...',\n",
       "    'thumbnails': {'default': {'url': 'https://i.ytimg.com/vi/pRpqtGFZvqA/default.jpg',\n",
       "      'width': 120,\n",
       "      'height': 90},\n",
       "     'medium': {'url': 'https://i.ytimg.com/vi/pRpqtGFZvqA/mqdefault.jpg',\n",
       "      'width': 320,\n",
       "      'height': 180},\n",
       "     'high': {'url': 'https://i.ytimg.com/vi/pRpqtGFZvqA/hqdefault.jpg',\n",
       "      'width': 480,\n",
       "      'height': 360}},\n",
       "    'channelTitle': 'Unacademy Timeout',\n",
       "    'liveBroadcastContent': 'none',\n",
       "    'publishTime': '2022-10-15T15:30:07Z'}},\n",
       "  {'kind': 'youtube#searchResult',\n",
       "   'etag': 'Ns8QFaNoGhpweQ_RSboI9ZFN9oc',\n",
       "   'id': {'kind': 'youtube#video', 'videoId': 'z0b_bcYrF0U'},\n",
       "   'snippet': {'publishedAt': '2022-10-15T18:47:56Z',\n",
       "    'channelId': 'UCvs8v1B4G9NNWyiZSkPPsXQ',\n",
       "    'title': 'Unacademy CAT Mega Boot Camp | 12 Hours Non-stop Marathon for CAT 2022-23 Aspirants',\n",
       "    'description': 'Win amazing rewards and scholarships worth INR 25 Crores by taking the Unacademy All India Mock Test (AIMT) for CAT.',\n",
       "    'thumbnails': {'default': {'url': 'https://i.ytimg.com/vi/z0b_bcYrF0U/default.jpg',\n",
       "      'width': 120,\n",
       "      'height': 90},\n",
       "     'medium': {'url': 'https://i.ytimg.com/vi/z0b_bcYrF0U/mqdefault.jpg',\n",
       "      'width': 320,\n",
       "      'height': 180},\n",
       "     'high': {'url': 'https://i.ytimg.com/vi/z0b_bcYrF0U/hqdefault.jpg',\n",
       "      'width': 480,\n",
       "      'height': 360}},\n",
       "    'channelTitle': 'Unacademy CAT',\n",
       "    'liveBroadcastContent': 'none',\n",
       "    'publishTime': '2022-10-15T18:47:56Z'}},\n",
       "  {'kind': 'youtube#searchResult',\n",
       "   'etag': 'akW7isvygsQvXZC676zueWgQxFs',\n",
       "   'id': {'kind': 'youtube#video', 'videoId': 'T3cbv5LWCJ0'},\n",
       "   'snippet': {'publishedAt': '2022-04-25T16:54:42Z',\n",
       "    'channelId': 'UC75xNs2aR7UWKAYF-OXVxUA',\n",
       "    'title': 'ಮಧ್ಯಯುಗೀನ ಭಾರತದ ಇತಿಹಾಸ | Sharanayya Bhandarimath | Unacademy Karnataka PSC',\n",
       "    'description': 'In this session, educator Sharanayya Bhandarimath will be discussing \"ಮಧ್ಯಯುಗೀನ ಭಾರತದ ಇತಿಹಾಸ\" for ...',\n",
       "    'thumbnails': {'default': {'url': 'https://i.ytimg.com/vi/T3cbv5LWCJ0/default.jpg',\n",
       "      'width': 120,\n",
       "      'height': 90},\n",
       "     'medium': {'url': 'https://i.ytimg.com/vi/T3cbv5LWCJ0/mqdefault.jpg',\n",
       "      'width': 320,\n",
       "      'height': 180},\n",
       "     'high': {'url': 'https://i.ytimg.com/vi/T3cbv5LWCJ0/hqdefault.jpg',\n",
       "      'width': 480,\n",
       "      'height': 360}},\n",
       "    'channelTitle': 'Unacademy - Karnataka PSC',\n",
       "    'liveBroadcastContent': 'none',\n",
       "    'publishTime': '2022-04-25T16:54:42Z'}},\n",
       "  {'kind': 'youtube#searchResult',\n",
       "   'etag': 'oHfPb2yrkUdCFLyD3QkWHv6PbYA',\n",
       "   'id': {'kind': 'youtube#video', 'videoId': '1y4mBApjIQ8'},\n",
       "   'snippet': {'publishedAt': '2022-10-31T03:53:25Z',\n",
       "    'channelId': 'UC9RPlhB_vNQMSJJSQhSDe3Q',\n",
       "    'title': 'BCR Crash Batch | Part 14 | Law | Adarsh Joshi | Unacademy CA Foundation',\n",
       "    'description': 'In this session, educator Adarsh Joshi will be discussing BCR (Business Correspondence & Reporting) in a Crash Course Batch ...',\n",
       "    'thumbnails': {'default': {'url': 'https://i.ytimg.com/vi/1y4mBApjIQ8/default.jpg',\n",
       "      'width': 120,\n",
       "      'height': 90},\n",
       "     'medium': {'url': 'https://i.ytimg.com/vi/1y4mBApjIQ8/mqdefault.jpg',\n",
       "      'width': 320,\n",
       "      'height': 180},\n",
       "     'high': {'url': 'https://i.ytimg.com/vi/1y4mBApjIQ8/hqdefault.jpg',\n",
       "      'width': 480,\n",
       "      'height': 360}},\n",
       "    'channelTitle': 'Unacademy CA Foundation',\n",
       "    'liveBroadcastContent': 'none',\n",
       "    'publishTime': '2022-10-31T03:53:25Z'}},\n",
       "  {'kind': 'youtube#searchResult',\n",
       "   'etag': '4QYHyAJPY2R24Tf1H7QnFimRbFw',\n",
       "   'id': {'kind': 'youtube#video', 'videoId': 'tqU59QWQhCU'},\n",
       "   'snippet': {'publishedAt': '2022-10-31T03:39:18Z',\n",
       "    'channelId': 'UCnGYjI9xg0SNbUowJ7j9hkQ',\n",
       "    'title': 'Daily Current Affairs Live | 31st October 2022 | Bibhuti Bhusan Swain | Unacademy Live - OPSC',\n",
       "    'description': 'In this session, Educator Bibhuti Bhusan Swain will be discussing the Latest Current Affairs events of 31st October 2022.',\n",
       "    'thumbnails': {'default': {'url': 'https://i.ytimg.com/vi/tqU59QWQhCU/default.jpg',\n",
       "      'width': 120,\n",
       "      'height': 90},\n",
       "     'medium': {'url': 'https://i.ytimg.com/vi/tqU59QWQhCU/mqdefault.jpg',\n",
       "      'width': 320,\n",
       "      'height': 180},\n",
       "     'high': {'url': 'https://i.ytimg.com/vi/tqU59QWQhCU/hqdefault.jpg',\n",
       "      'width': 480,\n",
       "      'height': 360}},\n",
       "    'channelTitle': 'Unacademy Live - OPSC',\n",
       "    'liveBroadcastContent': 'none',\n",
       "    'publishTime': '2022-10-31T03:39:18Z'}}]}"
      ]
     },
     "execution_count": 31,
     "metadata": {},
     "output_type": "execute_result"
    }
   ],
   "source": [
    "res"
   ]
  },
  {
   "cell_type": "code",
   "execution_count": 37,
   "id": "5333335e-815d-4fd4-a5be-ef3f3368bcc7",
   "metadata": {
    "tags": []
   },
   "outputs": [],
   "source": [
    "publishedDate = []\n",
    "video_Description = []\n",
    "\n",
    "title = []\n",
    "liked =[]\n",
    "disliked = []\n",
    "views = []\n",
    "url = []\n",
    "comment = []\n",
    "videoId = []\n",
    "videoId1 = []\n",
    "\n",
    "chn_id = []\n",
    "channelTitle = []\n",
    "\n",
    "thumbnail = []\n",
    "\n",
    "for i in range(0,10):\n",
    "    title.append(res['items'][i]['snippet']['title'])\n",
    "    chn_id.append(res['items'][i]['snippet']['channelId'])\n",
    "    \n",
    "    publishedDate.append(res['items'][i]['snippet']['publishedAt'])\n",
    "    video_Description.append(res['items'][i]['snippet']['description'])\n",
    "    #videoId.append(res['items'][i]['id']['videoId'])\n",
    "    thumbnail.append(res['items'][i]['snippet']['thumbnails']['default']['url'])\n",
    "    channelTitle.append(res['items'][i]['snippet']['channelTitle'])\n",
    "    videoId.append(res['items'][i]['id']['videoId'])\n",
    "    chn_id.append(res['items'][i]['snippet']['channelId'])\n",
    "    "
   ]
  },
  {
   "cell_type": "code",
   "execution_count": 38,
   "id": "7b70f044-e9d1-4d1b-acf4-2e4e9afd8c31",
   "metadata": {},
   "outputs": [],
   "source": [
    "dtf = pd.DataFrame(list(zip(videoId, title,  video_Description, publishedDate ,  thumbnail, channelTitle  )), \n",
    "                        columns =['ID', 'Title',  'Description', 'Date', 'Thumbnail', 'ChannelTitle'])\n",
    "\n",
    "l_head = 'https://www.youtube.com/watch?v='\n",
    "linkk = [l_head + x for x in dtf['ID']]\n",
    "\n",
    "dtf['VideoLink'] = linkk"
   ]
  },
  {
   "cell_type": "code",
   "execution_count": 39,
   "id": "7e5b6ca0-3d0b-4aba-a6d4-4759c649c48a",
   "metadata": {},
   "outputs": [],
   "source": [
    "video_ids = dtf['ID']"
   ]
  },
  {
   "cell_type": "code",
   "execution_count": 41,
   "id": "f1d6bc9d-9fa3-4f90-a718-d908e67795d5",
   "metadata": {
    "collapsed": true,
    "jupyter": {
     "outputs_hidden": true
    },
    "tags": []
   },
   "outputs": [
    {
     "data": {
      "text/html": [
       "<div>\n",
       "<style scoped>\n",
       "    .dataframe tbody tr th:only-of-type {\n",
       "        vertical-align: middle;\n",
       "    }\n",
       "\n",
       "    .dataframe tbody tr th {\n",
       "        vertical-align: top;\n",
       "    }\n",
       "\n",
       "    .dataframe thead th {\n",
       "        text-align: right;\n",
       "    }\n",
       "</style>\n",
       "<table border=\"1\" class=\"dataframe\">\n",
       "  <thead>\n",
       "    <tr style=\"text-align: right;\">\n",
       "      <th></th>\n",
       "      <th>ID</th>\n",
       "      <th>Title</th>\n",
       "      <th>Description</th>\n",
       "      <th>Date</th>\n",
       "      <th>Thumbnail</th>\n",
       "      <th>ChannelTitle</th>\n",
       "      <th>VideoLink</th>\n",
       "      <th>Views</th>\n",
       "      <th>Likes</th>\n",
       "      <th>Comment</th>\n",
       "    </tr>\n",
       "  </thead>\n",
       "  <tbody>\n",
       "    <tr>\n",
       "      <th>0</th>\n",
       "      <td>VRxFGjzZR6I</td>\n",
       "      <td>Seminar by UPSC Topper Ravi Sihag | IAS Exam S...</td>\n",
       "      <td>यह वीडियो मूलत: रवि कुमार सिहाग का एक सेमिनार ...</td>\n",
       "      <td>2022-08-09T14:30:07Z</td>\n",
       "      <td>https://i.ytimg.com/vi/VRxFGjzZR6I/default.jpg</td>\n",
       "      <td>Drishti IAS</td>\n",
       "      <td>https://www.youtube.com/watch?v=VRxFGjzZR6I</td>\n",
       "      <td>5799533</td>\n",
       "      <td>221768</td>\n",
       "      <td>6707</td>\n",
       "    </tr>\n",
       "    <tr>\n",
       "      <th>1</th>\n",
       "      <td>l0yIdEKo9h4</td>\n",
       "      <td>How to become IAS officer after 12th | IAS ban...</td>\n",
       "      <td>How to become IAS officer after 12th | IAS ban...</td>\n",
       "      <td>2020-08-15T14:54:17Z</td>\n",
       "      <td>https://i.ytimg.com/vi/l0yIdEKo9h4/default.jpg</td>\n",
       "      <td>govt job genuine notification channel</td>\n",
       "      <td>https://www.youtube.com/watch?v=l0yIdEKo9h4</td>\n",
       "      <td>1580894</td>\n",
       "      <td>65394</td>\n",
       "      <td>2661</td>\n",
       "    </tr>\n",
       "    <tr>\n",
       "      <th>2</th>\n",
       "      <td>0n8qazNOi74</td>\n",
       "      <td>Parking Inspection में  दिए कड़े निर्देश</td>\n",
       "      <td>IAS and IPS Inspection IAS Deepak Rawat.</td>\n",
       "      <td>2022-10-21T06:15:00Z</td>\n",
       "      <td>https://i.ytimg.com/vi/0n8qazNOi74/default.jpg</td>\n",
       "      <td>Deepak Rawat IAS</td>\n",
       "      <td>https://www.youtube.com/watch?v=0n8qazNOi74</td>\n",
       "      <td>2348603</td>\n",
       "      <td>43671</td>\n",
       "      <td>1700</td>\n",
       "    </tr>\n",
       "    <tr>\n",
       "      <th>3</th>\n",
       "      <td>AUCziaoNl30</td>\n",
       "      <td>IAS की तैयारी में कितना समय लगता है ? Dr. Vika...</td>\n",
       "      <td>IAS की तैयारी में कितना समय लगता है ? Dr. Vika...</td>\n",
       "      <td>2022-04-07T06:30:11Z</td>\n",
       "      <td>https://i.ytimg.com/vi/AUCziaoNl30/default.jpg</td>\n",
       "      <td>IAS Pathshala</td>\n",
       "      <td>https://www.youtube.com/watch?v=AUCziaoNl30</td>\n",
       "      <td>633062</td>\n",
       "      <td>25598</td>\n",
       "      <td>397</td>\n",
       "    </tr>\n",
       "    <tr>\n",
       "      <th>4</th>\n",
       "      <td>qZr47SlNhr8</td>\n",
       "      <td>SHRUTI SHARMA - AIR 1 | BYJU’S IAS Tablet Stud...</td>\n",
       "      <td>UPSC has declared the final results for Civil ...</td>\n",
       "      <td>2022-06-01T15:41:05Z</td>\n",
       "      <td>https://i.ytimg.com/vi/qZr47SlNhr8/default.jpg</td>\n",
       "      <td>BYJU'S IAS</td>\n",
       "      <td>https://www.youtube.com/watch?v=qZr47SlNhr8</td>\n",
       "      <td>1747258</td>\n",
       "      <td>107438</td>\n",
       "      <td>150</td>\n",
       "    </tr>\n",
       "    <tr>\n",
       "      <th>5</th>\n",
       "      <td>T-ATX0Ivbqg</td>\n",
       "      <td>कैसी होती है IAS की जिंदगी | Lifestyle of Bure...</td>\n",
       "      <td>For more SUBSCRIBE &amp; Press bell icon ❣️ ******...</td>\n",
       "      <td>2022-03-10T14:10:00Z</td>\n",
       "      <td>https://i.ytimg.com/vi/T-ATX0Ivbqg/default.jpg</td>\n",
       "      <td>द्युति Dyuti</td>\n",
       "      <td>https://www.youtube.com/watch?v=T-ATX0Ivbqg</td>\n",
       "      <td>643325</td>\n",
       "      <td>21190</td>\n",
       "      <td>342</td>\n",
       "    </tr>\n",
       "    <tr>\n",
       "      <th>6</th>\n",
       "      <td>bKRY4dJtVQw</td>\n",
       "      <td>IAS की ही तैयारी क्यों ? Power Of IAS Officer ...</td>\n",
       "      <td>IAS की ही तैयारी क्यों ? Power Of IAS Officer ...</td>\n",
       "      <td>2022-03-31T14:28:35Z</td>\n",
       "      <td>https://i.ytimg.com/vi/bKRY4dJtVQw/default.jpg</td>\n",
       "      <td>पार्थ Parth</td>\n",
       "      <td>https://www.youtube.com/watch?v=bKRY4dJtVQw</td>\n",
       "      <td>927743</td>\n",
       "      <td>33569</td>\n",
       "      <td>477</td>\n",
       "    </tr>\n",
       "    <tr>\n",
       "      <th>7</th>\n",
       "      <td>AH_2NZNleJE</td>\n",
       "      <td>Power of IAS Officers and Election Commission ...</td>\n",
       "      <td>Hello, Welcome To \"Khan Sir\" YouTube Channel. ...</td>\n",
       "      <td>2021-04-17T03:18:03Z</td>\n",
       "      <td>https://i.ytimg.com/vi/AH_2NZNleJE/default.jpg</td>\n",
       "      <td>Khan Sir</td>\n",
       "      <td>https://www.youtube.com/watch?v=AH_2NZNleJE</td>\n",
       "      <td>823547</td>\n",
       "      <td>35135</td>\n",
       "      <td>928</td>\n",
       "    </tr>\n",
       "    <tr>\n",
       "      <th>8</th>\n",
       "      <td>oW2NHo1qnSQ</td>\n",
       "      <td>Divya, Rank-438, UPSC 2021 | Hindi Medium | Mo...</td>\n",
       "      <td>Ms Divya has got 438th rank in UPSC-2021. We e...</td>\n",
       "      <td>2022-06-06T14:30:14Z</td>\n",
       "      <td>https://i.ytimg.com/vi/oW2NHo1qnSQ/default.jpg</td>\n",
       "      <td>Drishti IAS</td>\n",
       "      <td>https://www.youtube.com/watch?v=oW2NHo1qnSQ</td>\n",
       "      <td>6816522</td>\n",
       "      <td>186988</td>\n",
       "      <td>4673</td>\n",
       "    </tr>\n",
       "    <tr>\n",
       "      <th>9</th>\n",
       "      <td>YmFIuEm_klk</td>\n",
       "      <td>UPSC girl topper Shruti jayant deshmukh dwara ...</td>\n",
       "      <td>UPSC girl topper Shruti jayant deshmukh dwara ...</td>\n",
       "      <td>2019-08-01T16:54:49Z</td>\n",
       "      <td>https://i.ytimg.com/vi/YmFIuEm_klk/default.jpg</td>\n",
       "      <td>Shiwansh Tiwari</td>\n",
       "      <td>https://www.youtube.com/watch?v=YmFIuEm_klk</td>\n",
       "      <td>1173287</td>\n",
       "      <td>50099</td>\n",
       "      <td>1390</td>\n",
       "    </tr>\n",
       "  </tbody>\n",
       "</table>\n",
       "</div>"
      ],
      "text/plain": [
       "            ID                                              Title  \\\n",
       "0  VRxFGjzZR6I  Seminar by UPSC Topper Ravi Sihag | IAS Exam S...   \n",
       "1  l0yIdEKo9h4  How to become IAS officer after 12th | IAS ban...   \n",
       "2  0n8qazNOi74           Parking Inspection में  दिए कड़े निर्देश   \n",
       "3  AUCziaoNl30  IAS की तैयारी में कितना समय लगता है ? Dr. Vika...   \n",
       "4  qZr47SlNhr8  SHRUTI SHARMA - AIR 1 | BYJU’S IAS Tablet Stud...   \n",
       "5  T-ATX0Ivbqg  कैसी होती है IAS की जिंदगी | Lifestyle of Bure...   \n",
       "6  bKRY4dJtVQw  IAS की ही तैयारी क्यों ? Power Of IAS Officer ...   \n",
       "7  AH_2NZNleJE  Power of IAS Officers and Election Commission ...   \n",
       "8  oW2NHo1qnSQ  Divya, Rank-438, UPSC 2021 | Hindi Medium | Mo...   \n",
       "9  YmFIuEm_klk  UPSC girl topper Shruti jayant deshmukh dwara ...   \n",
       "\n",
       "                                         Description                  Date  \\\n",
       "0  यह वीडियो मूलत: रवि कुमार सिहाग का एक सेमिनार ...  2022-08-09T14:30:07Z   \n",
       "1  How to become IAS officer after 12th | IAS ban...  2020-08-15T14:54:17Z   \n",
       "2           IAS and IPS Inspection IAS Deepak Rawat.  2022-10-21T06:15:00Z   \n",
       "3  IAS की तैयारी में कितना समय लगता है ? Dr. Vika...  2022-04-07T06:30:11Z   \n",
       "4  UPSC has declared the final results for Civil ...  2022-06-01T15:41:05Z   \n",
       "5  For more SUBSCRIBE & Press bell icon ❣️ ******...  2022-03-10T14:10:00Z   \n",
       "6  IAS की ही तैयारी क्यों ? Power Of IAS Officer ...  2022-03-31T14:28:35Z   \n",
       "7  Hello, Welcome To \"Khan Sir\" YouTube Channel. ...  2021-04-17T03:18:03Z   \n",
       "8  Ms Divya has got 438th rank in UPSC-2021. We e...  2022-06-06T14:30:14Z   \n",
       "9  UPSC girl topper Shruti jayant deshmukh dwara ...  2019-08-01T16:54:49Z   \n",
       "\n",
       "                                        Thumbnail  \\\n",
       "0  https://i.ytimg.com/vi/VRxFGjzZR6I/default.jpg   \n",
       "1  https://i.ytimg.com/vi/l0yIdEKo9h4/default.jpg   \n",
       "2  https://i.ytimg.com/vi/0n8qazNOi74/default.jpg   \n",
       "3  https://i.ytimg.com/vi/AUCziaoNl30/default.jpg   \n",
       "4  https://i.ytimg.com/vi/qZr47SlNhr8/default.jpg   \n",
       "5  https://i.ytimg.com/vi/T-ATX0Ivbqg/default.jpg   \n",
       "6  https://i.ytimg.com/vi/bKRY4dJtVQw/default.jpg   \n",
       "7  https://i.ytimg.com/vi/AH_2NZNleJE/default.jpg   \n",
       "8  https://i.ytimg.com/vi/oW2NHo1qnSQ/default.jpg   \n",
       "9  https://i.ytimg.com/vi/YmFIuEm_klk/default.jpg   \n",
       "\n",
       "                            ChannelTitle  \\\n",
       "0                            Drishti IAS   \n",
       "1  govt job genuine notification channel   \n",
       "2                       Deepak Rawat IAS   \n",
       "3                          IAS Pathshala   \n",
       "4                             BYJU'S IAS   \n",
       "5                           द्युति Dyuti   \n",
       "6                            पार्थ Parth   \n",
       "7                               Khan Sir   \n",
       "8                            Drishti IAS   \n",
       "9                        Shiwansh Tiwari   \n",
       "\n",
       "                                     VideoLink    Views   Likes Comment  \n",
       "0  https://www.youtube.com/watch?v=VRxFGjzZR6I  5799533  221768    6707  \n",
       "1  https://www.youtube.com/watch?v=l0yIdEKo9h4  1580894   65394    2661  \n",
       "2  https://www.youtube.com/watch?v=0n8qazNOi74  2348603   43671    1700  \n",
       "3  https://www.youtube.com/watch?v=AUCziaoNl30   633062   25598     397  \n",
       "4  https://www.youtube.com/watch?v=qZr47SlNhr8  1747258  107438     150  \n",
       "5  https://www.youtube.com/watch?v=T-ATX0Ivbqg   643325   21190     342  \n",
       "6  https://www.youtube.com/watch?v=bKRY4dJtVQw   927743   33569     477  \n",
       "7  https://www.youtube.com/watch?v=AH_2NZNleJE   823547   35135     928  \n",
       "8  https://www.youtube.com/watch?v=oW2NHo1qnSQ  6816522  186988    4673  \n",
       "9  https://www.youtube.com/watch?v=YmFIuEm_klk  1173287   50099    1390  "
      ]
     },
     "execution_count": 41,
     "metadata": {},
     "output_type": "execute_result"
    }
   ],
   "source": [
    "\n",
    "stats = []\n",
    "for i in video_ids:\n",
    "    \n",
    "  res = (youtube).videos().list(id = i, part = 'statistics').execute()\n",
    "  stats += res['items']\n",
    "  #print(stats)\n",
    "for i in range(0, len(stats)):\n",
    "    #title.append((allVideos[i]['snippet']['title']))\n",
    "    #video_Description.append((allVideos[i]['snippet']['description']))\n",
    "    #publishedDate.append((allVideos[i]['snippet']['publishedAt'][0:10]))\n",
    "    #videoId.append((allVideos[i]['snippet']['resourceId']['videoId']))\n",
    "    #videoId1.append(res['items'][i]['id'])\n",
    "    #views.append(res['items'][i]['statistics']['viewCount'])\n",
    "    #liked.append(res['items'][i]['statistics']['commentCount'])\n",
    "    \n",
    "    videoId1.append(stats[i]['id'])\n",
    "    \n",
    "    views.append(stats[i]['statistics']['viewCount'])\n",
    "    try:\n",
    "        liked.append(stats[i]['statistics']['likeCount'])\n",
    "    except:\n",
    "        liked.append('NA')\n",
    "    try:\n",
    "        comment.append(stats[i]['statistics']['commentCount'])\n",
    "    except:\n",
    "        comment.append('NA')\n",
    "        \n",
    "\n",
    "dtf2 = pd.DataFrame(list(zip(videoId1, views,   liked, comment  )), \n",
    "                        columns =[ 'ID', 'Views', 'Likes', 'Comment']) \n",
    "dtf = pd.merge(dtf, dtf2, on='ID')\n",
    "dtf\n"
   ]
  },
  {
   "cell_type": "code",
   "execution_count": 42,
   "id": "338f5a9c-3adb-43d4-af91-ddb1215f0bf5",
   "metadata": {},
   "outputs": [],
   "source": [
    "dtf.to_excel(\"keywords_1.xlsx\")"
   ]
  },
  {
   "cell_type": "code",
   "execution_count": null,
   "id": "88717e13-7eeb-4899-81d4-d45f1b5356f2",
   "metadata": {},
   "outputs": [],
   "source": [
    "######Whole youtube script"
   ]
  },
  {
   "cell_type": "code",
   "execution_count": 15,
   "id": "7d34f20c-4d75-402a-a325-9ff7370431ce",
   "metadata": {},
   "outputs": [],
   "source": [
    "###Channel metrics\n",
    "videoId = []\n",
    "subs = []\n",
    "chn_views = []\n",
    "vids = []\n",
    "chn_title = []\n",
    "chn_description = []\n",
    "datee = []\n",
    "\n",
    "\n",
    "videoId.append(stats['items'][0]['id'])\n",
    "\n",
    "subs.append(stats['items'][0]['statistics']['subscriberCount'])\n",
    "chn_views.append(stats['items'][0]['statistics']['viewCount'])\n",
    "vids.append(stats['items'][0]['statistics']['videoCount'])\n",
    "datee.append(stats['items'][0]['snippet']['publishedAt'])\n",
    "\n",
    "\n",
    "chn_title.append(stats['items'][0]['snippet']['title'])\n",
    "chn_description.append(stats['items'][0]['snippet']['description'])\n",
    "\n",
    "\n"
   ]
  },
  {
   "cell_type": "code",
   "execution_count": 17,
   "id": "6fb1cc6b-f244-420b-aba2-c0da48adb18b",
   "metadata": {},
   "outputs": [],
   "source": [
    "dtf1 = pd.DataFrame(list(zip(videoId, chn_title,  chn_description, datee ,  subs, chn_views, vids)), \n",
    "                        columns =['ChannelID', 'ChannelTitle', 'ChannelDescription', 'PublishedDate', 'Subscribers', 'VideoViews', 'VideoCount'])\n"
   ]
  },
  {
   "cell_type": "code",
   "execution_count": 19,
   "id": "7b0822c1-64a4-4e36-8ed4-0b6c85dc9618",
   "metadata": {
    "tags": []
   },
   "outputs": [
    {
     "data": {
      "text/plain": [
       "'UU1pfsmDBnMQB8sOuQvmTvRQ'"
      ]
     },
     "execution_count": 19,
     "metadata": {},
     "output_type": "execute_result"
    }
   ],
   "source": [
    "content = youtube.channels().list(id = channelId, part = 'contentDetails').execute()\n",
    "content\n",
    "\n",
    "UploadId = content['items'][0]['contentDetails']['relatedPlaylists']['uploads']\n",
    "UploadId"
   ]
  },
  {
   "cell_type": "code",
   "execution_count": 20,
   "id": "36342b28-d90a-46ae-b80e-7e0a9d8125e5",
   "metadata": {},
   "outputs": [
    {
     "name": "stdout",
     "output_type": "stream",
     "text": [
      "10\n"
     ]
    }
   ],
   "source": [
    "\n",
    "\n",
    "allVideos = []\n",
    "nextPage_token = None\n",
    "\n",
    "res = youtube.playlistItems().list(playlistId = UploadId, maxResults = 10, part = 'snippet', pageToken = nextPage_token).execute()\n",
    "allVideos += res['items']\n",
    "\n",
    "video_ids = list(map(lambda x:x['snippet']['resourceId']['videoId'], allVideos))\n",
    "print(len(video_ids))"
   ]
  },
  {
   "cell_type": "code",
   "execution_count": 21,
   "id": "0314c6e3-0577-4da2-92b3-b2894ecd39e7",
   "metadata": {
    "tags": []
   },
   "outputs": [
    {
     "name": "stdout",
     "output_type": "stream",
     "text": [
      "0\n"
     ]
    }
   ],
   "source": [
    "stats = []\n",
    "for i in range(0, len(video_ids), 40):\n",
    "    res = (youtube).videos().list(id = ','.join(video_ids[i:i+40]), part = 'statistics').execute()\n",
    "    stats += res['items']\n",
    "    print(i)"
   ]
  },
  {
   "cell_type": "code",
   "execution_count": 22,
   "id": "5e036202-fce2-47dd-8fb5-28bf9d7e35fa",
   "metadata": {},
   "outputs": [],
   "source": [
    "stats = []\n",
    "for i in range(0, len(video_ids), 40):\n",
    "  res = (youtube).videos().list(id = ','.join(video_ids[i:i+40]), part = 'statistics').execute()\n",
    "  stats += res['items']\n",
    "\n",
    "title = []\n",
    "liked =[]\n",
    "disliked = []\n",
    "views = []\n",
    "url = []\n",
    "comment = []\n",
    "videoId = []\n",
    "videoId1 = []\n",
    "\n",
    "\n",
    "publishedDate = []\n",
    "video_Description = []\n",
    "\n",
    "for i in range(0, len(stats)):\n",
    "    #i+=1\n",
    "    #print(i)\n",
    "\n",
    "    title.append((allVideos[i]['snippet']['title']))\n",
    "    video_Description.append((allVideos[i]['snippet']['description']))\n",
    "    publishedDate.append((allVideos[i]['snippet']['publishedAt'][0:10]))\n",
    "    videoId.append((allVideos[i]['snippet']['resourceId']['videoId']))\n",
    "    \n",
    "    #channelTitle.append(res['items'][i]['snippet']['channelTitle'])\n",
    "\n",
    "\n",
    "    #videoId1.append(res['items'][i]['id'])\n",
    "    #views.append(res['items'][i]['statistics']['viewCount'])\n",
    "    #liked.append(res['items'][i]['statistics']['commentCount'])\n",
    "    \n",
    "    videoId1.append(stats[i]['id'])\n",
    "    \n",
    "    views.append(stats[i]['statistics']['viewCount'])\n",
    "    try:\n",
    "        liked.append(stats[i]['statistics']['likeCount'])\n",
    "    except:\n",
    "        liked.append('NA')\n",
    "    try:\n",
    "        comment.append(stats[i]['statistics']['commentCount'])\n",
    "    except:\n",
    "        comment.append('NA')\n",
    "        \n",
    "    \n",
    "    \n",
    "dtf1 = pd.DataFrame(list(zip(title,  video_Description, publishedDate , videoId  )), \n",
    "                        columns =['VideoTitle',  'VideoDescription', 'PublishedDate', 'VideoID'])\n",
    "\n",
    "\n",
    "dtf2 = pd.DataFrame(list(zip(videoId1, views,   liked, comment  )), \n",
    "                        columns =[ 'VideoID', 'VideoViews', 'VideoLikes', 'VideoComment']) \n",
    "\n",
    "dtf = pd.merge(dtf1, dtf2, on='VideoID')\n",
    "dtf['ChannelTitle'] = chn_title[0]"
   ]
  },
  {
   "cell_type": "code",
   "execution_count": 24,
   "id": "bf325933-db02-4fc5-94b0-3b3e21054676",
   "metadata": {},
   "outputs": [],
   "source": [
    "dtf.to_excel(\"chn1.xlsx\")"
   ]
  },
  {
   "cell_type": "code",
   "execution_count": 11,
   "id": "e734457f-ca41-4b40-8b9c-02c2e621ca3b",
   "metadata": {
    "collapsed": true,
    "jupyter": {
     "outputs_hidden": true
    },
    "tags": []
   },
   "outputs": [
    {
     "ename": "TimeoutError",
     "evalue": "[Errno 60] Operation timed out",
     "output_type": "error",
     "traceback": [
      "\u001b[0;31m---------------------------------------------------------------------------\u001b[0m",
      "\u001b[0;31mTimeoutError\u001b[0m                              Traceback (most recent call last)",
      "Input \u001b[0;32mIn [11]\u001b[0m, in \u001b[0;36m<cell line: 2>\u001b[0;34m()\u001b[0m\n\u001b[1;32m      1\u001b[0m stats \u001b[38;5;241m=\u001b[39m []\n\u001b[1;32m      2\u001b[0m \u001b[38;5;28;01mfor\u001b[39;00m i \u001b[38;5;129;01min\u001b[39;00m \u001b[38;5;28mrange\u001b[39m(\u001b[38;5;241m0\u001b[39m, \u001b[38;5;28mlen\u001b[39m(video_ids), \u001b[38;5;241m40\u001b[39m):\n\u001b[0;32m----> 3\u001b[0m   res \u001b[38;5;241m=\u001b[39m \u001b[43m(\u001b[49m\u001b[43myoutube\u001b[49m\u001b[43m)\u001b[49m\u001b[38;5;241;43m.\u001b[39;49m\u001b[43mvideos\u001b[49m\u001b[43m(\u001b[49m\u001b[43m)\u001b[49m\u001b[38;5;241;43m.\u001b[39;49m\u001b[43mlist\u001b[49m\u001b[43m(\u001b[49m\u001b[38;5;28;43mid\u001b[39;49m\u001b[43m \u001b[49m\u001b[38;5;241;43m=\u001b[39;49m\u001b[43m \u001b[49m\u001b[38;5;124;43m'\u001b[39;49m\u001b[38;5;124;43m,\u001b[39;49m\u001b[38;5;124;43m'\u001b[39;49m\u001b[38;5;241;43m.\u001b[39;49m\u001b[43mjoin\u001b[49m\u001b[43m(\u001b[49m\u001b[43mvideo_ids\u001b[49m\u001b[43m[\u001b[49m\u001b[43mi\u001b[49m\u001b[43m:\u001b[49m\u001b[43mi\u001b[49m\u001b[38;5;241;43m+\u001b[39;49m\u001b[38;5;241;43m40\u001b[39;49m\u001b[43m]\u001b[49m\u001b[43m)\u001b[49m\u001b[43m,\u001b[49m\u001b[43m \u001b[49m\u001b[43mpart\u001b[49m\u001b[43m \u001b[49m\u001b[38;5;241;43m=\u001b[39;49m\u001b[43m \u001b[49m\u001b[38;5;124;43m'\u001b[39;49m\u001b[38;5;124;43mstatistics\u001b[39;49m\u001b[38;5;124;43m'\u001b[39;49m\u001b[43m)\u001b[49m\u001b[38;5;241;43m.\u001b[39;49m\u001b[43mexecute\u001b[49m\u001b[43m(\u001b[49m\u001b[43m)\u001b[49m\n\u001b[1;32m      4\u001b[0m   stats \u001b[38;5;241m+\u001b[39m\u001b[38;5;241m=\u001b[39m res[\u001b[38;5;124m'\u001b[39m\u001b[38;5;124mitems\u001b[39m\u001b[38;5;124m'\u001b[39m]\n",
      "File \u001b[0;32m~/opt/anaconda3/lib/python3.8/site-packages/googleapiclient/_helpers.py:130\u001b[0m, in \u001b[0;36mpositional.<locals>.positional_decorator.<locals>.positional_wrapper\u001b[0;34m(*args, **kwargs)\u001b[0m\n\u001b[1;32m    128\u001b[0m     \u001b[38;5;28;01melif\u001b[39;00m positional_parameters_enforcement \u001b[38;5;241m==\u001b[39m POSITIONAL_WARNING:\n\u001b[1;32m    129\u001b[0m         logger\u001b[38;5;241m.\u001b[39mwarning(message)\n\u001b[0;32m--> 130\u001b[0m \u001b[38;5;28;01mreturn\u001b[39;00m \u001b[43mwrapped\u001b[49m\u001b[43m(\u001b[49m\u001b[38;5;241;43m*\u001b[39;49m\u001b[43margs\u001b[49m\u001b[43m,\u001b[49m\u001b[43m \u001b[49m\u001b[38;5;241;43m*\u001b[39;49m\u001b[38;5;241;43m*\u001b[39;49m\u001b[43mkwargs\u001b[49m\u001b[43m)\u001b[49m\n",
      "File \u001b[0;32m~/opt/anaconda3/lib/python3.8/site-packages/googleapiclient/http.py:923\u001b[0m, in \u001b[0;36mHttpRequest.execute\u001b[0;34m(self, http, num_retries)\u001b[0m\n\u001b[1;32m    920\u001b[0m     \u001b[38;5;28mself\u001b[39m\u001b[38;5;241m.\u001b[39mheaders[\u001b[38;5;124m\"\u001b[39m\u001b[38;5;124mcontent-length\u001b[39m\u001b[38;5;124m\"\u001b[39m] \u001b[38;5;241m=\u001b[39m \u001b[38;5;28mstr\u001b[39m(\u001b[38;5;28mlen\u001b[39m(\u001b[38;5;28mself\u001b[39m\u001b[38;5;241m.\u001b[39mbody))\n\u001b[1;32m    922\u001b[0m \u001b[38;5;66;03m# Handle retries for server-side errors.\u001b[39;00m\n\u001b[0;32m--> 923\u001b[0m resp, content \u001b[38;5;241m=\u001b[39m \u001b[43m_retry_request\u001b[49m\u001b[43m(\u001b[49m\n\u001b[1;32m    924\u001b[0m \u001b[43m    \u001b[49m\u001b[43mhttp\u001b[49m\u001b[43m,\u001b[49m\n\u001b[1;32m    925\u001b[0m \u001b[43m    \u001b[49m\u001b[43mnum_retries\u001b[49m\u001b[43m,\u001b[49m\n\u001b[1;32m    926\u001b[0m \u001b[43m    \u001b[49m\u001b[38;5;124;43m\"\u001b[39;49m\u001b[38;5;124;43mrequest\u001b[39;49m\u001b[38;5;124;43m\"\u001b[39;49m\u001b[43m,\u001b[49m\n\u001b[1;32m    927\u001b[0m \u001b[43m    \u001b[49m\u001b[38;5;28;43mself\u001b[39;49m\u001b[38;5;241;43m.\u001b[39;49m\u001b[43m_sleep\u001b[49m\u001b[43m,\u001b[49m\n\u001b[1;32m    928\u001b[0m \u001b[43m    \u001b[49m\u001b[38;5;28;43mself\u001b[39;49m\u001b[38;5;241;43m.\u001b[39;49m\u001b[43m_rand\u001b[49m\u001b[43m,\u001b[49m\n\u001b[1;32m    929\u001b[0m \u001b[43m    \u001b[49m\u001b[38;5;28;43mstr\u001b[39;49m\u001b[43m(\u001b[49m\u001b[38;5;28;43mself\u001b[39;49m\u001b[38;5;241;43m.\u001b[39;49m\u001b[43muri\u001b[49m\u001b[43m)\u001b[49m\u001b[43m,\u001b[49m\n\u001b[1;32m    930\u001b[0m \u001b[43m    \u001b[49m\u001b[43mmethod\u001b[49m\u001b[38;5;241;43m=\u001b[39;49m\u001b[38;5;28;43mstr\u001b[39;49m\u001b[43m(\u001b[49m\u001b[38;5;28;43mself\u001b[39;49m\u001b[38;5;241;43m.\u001b[39;49m\u001b[43mmethod\u001b[49m\u001b[43m)\u001b[49m\u001b[43m,\u001b[49m\n\u001b[1;32m    931\u001b[0m \u001b[43m    \u001b[49m\u001b[43mbody\u001b[49m\u001b[38;5;241;43m=\u001b[39;49m\u001b[38;5;28;43mself\u001b[39;49m\u001b[38;5;241;43m.\u001b[39;49m\u001b[43mbody\u001b[49m\u001b[43m,\u001b[49m\n\u001b[1;32m    932\u001b[0m \u001b[43m    \u001b[49m\u001b[43mheaders\u001b[49m\u001b[38;5;241;43m=\u001b[39;49m\u001b[38;5;28;43mself\u001b[39;49m\u001b[38;5;241;43m.\u001b[39;49m\u001b[43mheaders\u001b[49m\u001b[43m,\u001b[49m\n\u001b[1;32m    933\u001b[0m \u001b[43m\u001b[49m\u001b[43m)\u001b[49m\n\u001b[1;32m    935\u001b[0m \u001b[38;5;28;01mfor\u001b[39;00m callback \u001b[38;5;129;01min\u001b[39;00m \u001b[38;5;28mself\u001b[39m\u001b[38;5;241m.\u001b[39mresponse_callbacks:\n\u001b[1;32m    936\u001b[0m     callback(resp)\n",
      "File \u001b[0;32m~/opt/anaconda3/lib/python3.8/site-packages/googleapiclient/http.py:222\u001b[0m, in \u001b[0;36m_retry_request\u001b[0;34m(http, num_retries, req_type, sleep, rand, uri, method, *args, **kwargs)\u001b[0m\n\u001b[1;32m    220\u001b[0m \u001b[38;5;28;01mif\u001b[39;00m exception:\n\u001b[1;32m    221\u001b[0m     \u001b[38;5;28;01mif\u001b[39;00m retry_num \u001b[38;5;241m==\u001b[39m num_retries:\n\u001b[0;32m--> 222\u001b[0m         \u001b[38;5;28;01mraise\u001b[39;00m exception\n\u001b[1;32m    223\u001b[0m     \u001b[38;5;28;01melse\u001b[39;00m:\n\u001b[1;32m    224\u001b[0m         \u001b[38;5;28;01mcontinue\u001b[39;00m\n",
      "File \u001b[0;32m~/opt/anaconda3/lib/python3.8/site-packages/googleapiclient/http.py:191\u001b[0m, in \u001b[0;36m_retry_request\u001b[0;34m(http, num_retries, req_type, sleep, rand, uri, method, *args, **kwargs)\u001b[0m\n\u001b[1;32m    189\u001b[0m \u001b[38;5;28;01mtry\u001b[39;00m:\n\u001b[1;32m    190\u001b[0m     exception \u001b[38;5;241m=\u001b[39m \u001b[38;5;28;01mNone\u001b[39;00m\n\u001b[0;32m--> 191\u001b[0m     resp, content \u001b[38;5;241m=\u001b[39m \u001b[43mhttp\u001b[49m\u001b[38;5;241;43m.\u001b[39;49m\u001b[43mrequest\u001b[49m\u001b[43m(\u001b[49m\u001b[43muri\u001b[49m\u001b[43m,\u001b[49m\u001b[43m \u001b[49m\u001b[43mmethod\u001b[49m\u001b[43m,\u001b[49m\u001b[43m \u001b[49m\u001b[38;5;241;43m*\u001b[39;49m\u001b[43margs\u001b[49m\u001b[43m,\u001b[49m\u001b[43m \u001b[49m\u001b[38;5;241;43m*\u001b[39;49m\u001b[38;5;241;43m*\u001b[39;49m\u001b[43mkwargs\u001b[49m\u001b[43m)\u001b[49m\n\u001b[1;32m    192\u001b[0m \u001b[38;5;66;03m# Retry on SSL errors and socket timeout errors.\u001b[39;00m\n\u001b[1;32m    193\u001b[0m \u001b[38;5;28;01mexcept\u001b[39;00m _ssl_SSLError \u001b[38;5;28;01mas\u001b[39;00m ssl_error:\n",
      "File \u001b[0;32m~/opt/anaconda3/lib/python3.8/site-packages/httplib2/__init__.py:1711\u001b[0m, in \u001b[0;36mHttp.request\u001b[0;34m(self, uri, method, body, headers, redirections, connection_type)\u001b[0m\n\u001b[1;32m   1709\u001b[0m             content \u001b[38;5;241m=\u001b[39m \u001b[38;5;124mb\u001b[39m\u001b[38;5;124m\"\u001b[39m\u001b[38;5;124m\"\u001b[39m\n\u001b[1;32m   1710\u001b[0m         \u001b[38;5;28;01melse\u001b[39;00m:\n\u001b[0;32m-> 1711\u001b[0m             (response, content) \u001b[38;5;241m=\u001b[39m \u001b[38;5;28;43mself\u001b[39;49m\u001b[38;5;241;43m.\u001b[39;49m\u001b[43m_request\u001b[49m\u001b[43m(\u001b[49m\n\u001b[1;32m   1712\u001b[0m \u001b[43m                \u001b[49m\u001b[43mconn\u001b[49m\u001b[43m,\u001b[49m\u001b[43m \u001b[49m\u001b[43mauthority\u001b[49m\u001b[43m,\u001b[49m\u001b[43m \u001b[49m\u001b[43muri\u001b[49m\u001b[43m,\u001b[49m\u001b[43m \u001b[49m\u001b[43mrequest_uri\u001b[49m\u001b[43m,\u001b[49m\u001b[43m \u001b[49m\u001b[43mmethod\u001b[49m\u001b[43m,\u001b[49m\u001b[43m \u001b[49m\u001b[43mbody\u001b[49m\u001b[43m,\u001b[49m\u001b[43m \u001b[49m\u001b[43mheaders\u001b[49m\u001b[43m,\u001b[49m\u001b[43m \u001b[49m\u001b[43mredirections\u001b[49m\u001b[43m,\u001b[49m\u001b[43m \u001b[49m\u001b[43mcachekey\u001b[49m\u001b[43m,\u001b[49m\n\u001b[1;32m   1713\u001b[0m \u001b[43m            \u001b[49m\u001b[43m)\u001b[49m\n\u001b[1;32m   1714\u001b[0m \u001b[38;5;28;01mexcept\u001b[39;00m \u001b[38;5;167;01mException\u001b[39;00m \u001b[38;5;28;01mas\u001b[39;00m e:\n\u001b[1;32m   1715\u001b[0m     is_timeout \u001b[38;5;241m=\u001b[39m \u001b[38;5;28misinstance\u001b[39m(e, socket\u001b[38;5;241m.\u001b[39mtimeout)\n",
      "File \u001b[0;32m~/opt/anaconda3/lib/python3.8/site-packages/httplib2/__init__.py:1427\u001b[0m, in \u001b[0;36mHttp._request\u001b[0;34m(self, conn, host, absolute_uri, request_uri, method, body, headers, redirections, cachekey)\u001b[0m\n\u001b[1;32m   1424\u001b[0m \u001b[38;5;28;01mif\u001b[39;00m auth:\n\u001b[1;32m   1425\u001b[0m     auth\u001b[38;5;241m.\u001b[39mrequest(method, request_uri, headers, body)\n\u001b[0;32m-> 1427\u001b[0m (response, content) \u001b[38;5;241m=\u001b[39m \u001b[38;5;28;43mself\u001b[39;49m\u001b[38;5;241;43m.\u001b[39;49m\u001b[43m_conn_request\u001b[49m\u001b[43m(\u001b[49m\u001b[43mconn\u001b[49m\u001b[43m,\u001b[49m\u001b[43m \u001b[49m\u001b[43mrequest_uri\u001b[49m\u001b[43m,\u001b[49m\u001b[43m \u001b[49m\u001b[43mmethod\u001b[49m\u001b[43m,\u001b[49m\u001b[43m \u001b[49m\u001b[43mbody\u001b[49m\u001b[43m,\u001b[49m\u001b[43m \u001b[49m\u001b[43mheaders\u001b[49m\u001b[43m)\u001b[49m\n\u001b[1;32m   1429\u001b[0m \u001b[38;5;28;01mif\u001b[39;00m auth:\n\u001b[1;32m   1430\u001b[0m     \u001b[38;5;28;01mif\u001b[39;00m auth\u001b[38;5;241m.\u001b[39mresponse(response, body):\n",
      "File \u001b[0;32m~/opt/anaconda3/lib/python3.8/site-packages/httplib2/__init__.py:1379\u001b[0m, in \u001b[0;36mHttp._conn_request\u001b[0;34m(self, conn, request_uri, method, body, headers)\u001b[0m\n\u001b[1;32m   1377\u001b[0m     \u001b[38;5;28;01mpass\u001b[39;00m\n\u001b[1;32m   1378\u001b[0m \u001b[38;5;28;01mtry\u001b[39;00m:\n\u001b[0;32m-> 1379\u001b[0m     response \u001b[38;5;241m=\u001b[39m \u001b[43mconn\u001b[49m\u001b[38;5;241;43m.\u001b[39;49m\u001b[43mgetresponse\u001b[49m\u001b[43m(\u001b[49m\u001b[43m)\u001b[49m\n\u001b[1;32m   1380\u001b[0m \u001b[38;5;28;01mexcept\u001b[39;00m (http\u001b[38;5;241m.\u001b[39mclient\u001b[38;5;241m.\u001b[39mBadStatusLine, http\u001b[38;5;241m.\u001b[39mclient\u001b[38;5;241m.\u001b[39mResponseNotReady):\n\u001b[1;32m   1381\u001b[0m     \u001b[38;5;66;03m# If we get a BadStatusLine on the first try then that means\u001b[39;00m\n\u001b[1;32m   1382\u001b[0m     \u001b[38;5;66;03m# the connection just went stale, so retry regardless of the\u001b[39;00m\n\u001b[1;32m   1383\u001b[0m     \u001b[38;5;66;03m# number of RETRIES set.\u001b[39;00m\n\u001b[1;32m   1384\u001b[0m     \u001b[38;5;28;01mif\u001b[39;00m \u001b[38;5;129;01mnot\u001b[39;00m seen_bad_status_line \u001b[38;5;129;01mand\u001b[39;00m i \u001b[38;5;241m==\u001b[39m \u001b[38;5;241m1\u001b[39m:\n",
      "File \u001b[0;32m~/opt/anaconda3/lib/python3.8/http/client.py:1347\u001b[0m, in \u001b[0;36mHTTPConnection.getresponse\u001b[0;34m(self)\u001b[0m\n\u001b[1;32m   1345\u001b[0m \u001b[38;5;28;01mtry\u001b[39;00m:\n\u001b[1;32m   1346\u001b[0m     \u001b[38;5;28;01mtry\u001b[39;00m:\n\u001b[0;32m-> 1347\u001b[0m         \u001b[43mresponse\u001b[49m\u001b[38;5;241;43m.\u001b[39;49m\u001b[43mbegin\u001b[49m\u001b[43m(\u001b[49m\u001b[43m)\u001b[49m\n\u001b[1;32m   1348\u001b[0m     \u001b[38;5;28;01mexcept\u001b[39;00m \u001b[38;5;167;01mConnectionError\u001b[39;00m:\n\u001b[1;32m   1349\u001b[0m         \u001b[38;5;28mself\u001b[39m\u001b[38;5;241m.\u001b[39mclose()\n",
      "File \u001b[0;32m~/opt/anaconda3/lib/python3.8/http/client.py:307\u001b[0m, in \u001b[0;36mHTTPResponse.begin\u001b[0;34m(self)\u001b[0m\n\u001b[1;32m    305\u001b[0m \u001b[38;5;66;03m# read until we get a non-100 response\u001b[39;00m\n\u001b[1;32m    306\u001b[0m \u001b[38;5;28;01mwhile\u001b[39;00m \u001b[38;5;28;01mTrue\u001b[39;00m:\n\u001b[0;32m--> 307\u001b[0m     version, status, reason \u001b[38;5;241m=\u001b[39m \u001b[38;5;28;43mself\u001b[39;49m\u001b[38;5;241;43m.\u001b[39;49m\u001b[43m_read_status\u001b[49m\u001b[43m(\u001b[49m\u001b[43m)\u001b[49m\n\u001b[1;32m    308\u001b[0m     \u001b[38;5;28;01mif\u001b[39;00m status \u001b[38;5;241m!=\u001b[39m CONTINUE:\n\u001b[1;32m    309\u001b[0m         \u001b[38;5;28;01mbreak\u001b[39;00m\n",
      "File \u001b[0;32m~/opt/anaconda3/lib/python3.8/http/client.py:268\u001b[0m, in \u001b[0;36mHTTPResponse._read_status\u001b[0;34m(self)\u001b[0m\n\u001b[1;32m    267\u001b[0m \u001b[38;5;28;01mdef\u001b[39;00m \u001b[38;5;21m_read_status\u001b[39m(\u001b[38;5;28mself\u001b[39m):\n\u001b[0;32m--> 268\u001b[0m     line \u001b[38;5;241m=\u001b[39m \u001b[38;5;28mstr\u001b[39m(\u001b[38;5;28;43mself\u001b[39;49m\u001b[38;5;241;43m.\u001b[39;49m\u001b[43mfp\u001b[49m\u001b[38;5;241;43m.\u001b[39;49m\u001b[43mreadline\u001b[49m\u001b[43m(\u001b[49m\u001b[43m_MAXLINE\u001b[49m\u001b[43m \u001b[49m\u001b[38;5;241;43m+\u001b[39;49m\u001b[43m \u001b[49m\u001b[38;5;241;43m1\u001b[39;49m\u001b[43m)\u001b[49m, \u001b[38;5;124m\"\u001b[39m\u001b[38;5;124miso-8859-1\u001b[39m\u001b[38;5;124m\"\u001b[39m)\n\u001b[1;32m    269\u001b[0m     \u001b[38;5;28;01mif\u001b[39;00m \u001b[38;5;28mlen\u001b[39m(line) \u001b[38;5;241m>\u001b[39m _MAXLINE:\n\u001b[1;32m    270\u001b[0m         \u001b[38;5;28;01mraise\u001b[39;00m LineTooLong(\u001b[38;5;124m\"\u001b[39m\u001b[38;5;124mstatus line\u001b[39m\u001b[38;5;124m\"\u001b[39m)\n",
      "File \u001b[0;32m~/opt/anaconda3/lib/python3.8/socket.py:669\u001b[0m, in \u001b[0;36mSocketIO.readinto\u001b[0;34m(self, b)\u001b[0m\n\u001b[1;32m    667\u001b[0m \u001b[38;5;28;01mwhile\u001b[39;00m \u001b[38;5;28;01mTrue\u001b[39;00m:\n\u001b[1;32m    668\u001b[0m     \u001b[38;5;28;01mtry\u001b[39;00m:\n\u001b[0;32m--> 669\u001b[0m         \u001b[38;5;28;01mreturn\u001b[39;00m \u001b[38;5;28;43mself\u001b[39;49m\u001b[38;5;241;43m.\u001b[39;49m\u001b[43m_sock\u001b[49m\u001b[38;5;241;43m.\u001b[39;49m\u001b[43mrecv_into\u001b[49m\u001b[43m(\u001b[49m\u001b[43mb\u001b[49m\u001b[43m)\u001b[49m\n\u001b[1;32m    670\u001b[0m     \u001b[38;5;28;01mexcept\u001b[39;00m timeout:\n\u001b[1;32m    671\u001b[0m         \u001b[38;5;28mself\u001b[39m\u001b[38;5;241m.\u001b[39m_timeout_occurred \u001b[38;5;241m=\u001b[39m \u001b[38;5;28;01mTrue\u001b[39;00m\n",
      "File \u001b[0;32m~/opt/anaconda3/lib/python3.8/ssl.py:1241\u001b[0m, in \u001b[0;36mSSLSocket.recv_into\u001b[0;34m(self, buffer, nbytes, flags)\u001b[0m\n\u001b[1;32m   1237\u001b[0m     \u001b[38;5;28;01mif\u001b[39;00m flags \u001b[38;5;241m!=\u001b[39m \u001b[38;5;241m0\u001b[39m:\n\u001b[1;32m   1238\u001b[0m         \u001b[38;5;28;01mraise\u001b[39;00m \u001b[38;5;167;01mValueError\u001b[39;00m(\n\u001b[1;32m   1239\u001b[0m           \u001b[38;5;124m\"\u001b[39m\u001b[38;5;124mnon-zero flags not allowed in calls to recv_into() on \u001b[39m\u001b[38;5;132;01m%s\u001b[39;00m\u001b[38;5;124m\"\u001b[39m \u001b[38;5;241m%\u001b[39m\n\u001b[1;32m   1240\u001b[0m           \u001b[38;5;28mself\u001b[39m\u001b[38;5;241m.\u001b[39m\u001b[38;5;18m__class__\u001b[39m)\n\u001b[0;32m-> 1241\u001b[0m     \u001b[38;5;28;01mreturn\u001b[39;00m \u001b[38;5;28;43mself\u001b[39;49m\u001b[38;5;241;43m.\u001b[39;49m\u001b[43mread\u001b[49m\u001b[43m(\u001b[49m\u001b[43mnbytes\u001b[49m\u001b[43m,\u001b[49m\u001b[43m \u001b[49m\u001b[43mbuffer\u001b[49m\u001b[43m)\u001b[49m\n\u001b[1;32m   1242\u001b[0m \u001b[38;5;28;01melse\u001b[39;00m:\n\u001b[1;32m   1243\u001b[0m     \u001b[38;5;28;01mreturn\u001b[39;00m \u001b[38;5;28msuper\u001b[39m()\u001b[38;5;241m.\u001b[39mrecv_into(buffer, nbytes, flags)\n",
      "File \u001b[0;32m~/opt/anaconda3/lib/python3.8/ssl.py:1099\u001b[0m, in \u001b[0;36mSSLSocket.read\u001b[0;34m(self, len, buffer)\u001b[0m\n\u001b[1;32m   1097\u001b[0m \u001b[38;5;28;01mtry\u001b[39;00m:\n\u001b[1;32m   1098\u001b[0m     \u001b[38;5;28;01mif\u001b[39;00m buffer \u001b[38;5;129;01mis\u001b[39;00m \u001b[38;5;129;01mnot\u001b[39;00m \u001b[38;5;28;01mNone\u001b[39;00m:\n\u001b[0;32m-> 1099\u001b[0m         \u001b[38;5;28;01mreturn\u001b[39;00m \u001b[38;5;28;43mself\u001b[39;49m\u001b[38;5;241;43m.\u001b[39;49m\u001b[43m_sslobj\u001b[49m\u001b[38;5;241;43m.\u001b[39;49m\u001b[43mread\u001b[49m\u001b[43m(\u001b[49m\u001b[38;5;28;43mlen\u001b[39;49m\u001b[43m,\u001b[49m\u001b[43m \u001b[49m\u001b[43mbuffer\u001b[49m\u001b[43m)\u001b[49m\n\u001b[1;32m   1100\u001b[0m     \u001b[38;5;28;01melse\u001b[39;00m:\n\u001b[1;32m   1101\u001b[0m         \u001b[38;5;28;01mreturn\u001b[39;00m \u001b[38;5;28mself\u001b[39m\u001b[38;5;241m.\u001b[39m_sslobj\u001b[38;5;241m.\u001b[39mread(\u001b[38;5;28mlen\u001b[39m)\n",
      "\u001b[0;31mTimeoutError\u001b[0m: [Errno 60] Operation timed out"
     ]
    }
   ],
   "source": [
    "\n",
    "\n",
    "stats = []\n",
    "for i in range(0, len(video_ids), 40):\n",
    "  res = (youtube).videos().list(id = ','.join(video_ids[i:i+40]), part = 'statistics').execute()\n",
    "  stats += res['items']\n",
    "  #print(stats)"
   ]
  },
  {
   "cell_type": "code",
   "execution_count": 73,
   "id": "4ed39a94-1443-478e-9d4f-cb2196f02547",
   "metadata": {},
   "outputs": [
    {
     "data": {
      "text/plain": [
       "'50225318'"
      ]
     },
     "execution_count": 73,
     "metadata": {},
     "output_type": "execute_result"
    }
   ],
   "source": [
    "res['items'][0]['statistics']['viewCount']"
   ]
  },
  {
   "cell_type": "code",
   "execution_count": 57,
   "id": "425d193f-0ad8-4d26-8f63-da66d9a1166c",
   "metadata": {},
   "outputs": [],
   "source": [
    "views = []\n",
    "likes =[]\n",
    "comment =[]\n",
    "views.append(res['items'][0]['statistics']['viewCount'])\n",
    "likes.append(res['items'][0]['statistics']['likeCount'])\n",
    "comment.append(res['items'][0]['statistics']['commentCount'])\n"
   ]
  },
  {
   "cell_type": "code",
   "execution_count": 19,
   "id": "d58f2c2f-a64b-4d38-9928-f26caf242c7c",
   "metadata": {
    "collapsed": true,
    "jupyter": {
     "outputs_hidden": true
    },
    "tags": []
   },
   "outputs": [
    {
     "data": {
      "text/plain": [
       "{'kind': 'youtube#searchListResponse',\n",
       " 'etag': 'YuD478gIx4f7KimqoitqHDX7j-0',\n",
       " 'nextPageToken': 'CAUQAA',\n",
       " 'regionCode': 'IN',\n",
       " 'pageInfo': {'totalResults': 14835, 'resultsPerPage': 5},\n",
       " 'items': [{'kind': 'youtube#searchResult',\n",
       "   'etag': '8_PwQMKMTGbrc7ESAFiMVUl9jUA',\n",
       "   'id': {'kind': 'youtube#channel', 'channelId': 'UCZNNx4KYmCkwxCLdsHyWqQA'},\n",
       "   'snippet': {'publishedAt': '2014-05-16T12:18:40Z',\n",
       "    'channelId': 'UCZNNx4KYmCkwxCLdsHyWqQA',\n",
       "    'title': 'Unacademy JEE',\n",
       "    'description': \"Unacademy JEE is India's No.1 Channel for IIT JEE Preparation comprising of the Top Team lead by Namo Kaul- Director of ...\",\n",
       "    'thumbnails': {'default': {'url': 'https://yt3.ggpht.com/fdTubhHCZenFEU9ccBlsUdvg4RLZNBhIYNk1YTH0WnMS1Qlja8WXFaAX3vY4UwgcOAFnh3-0Rw=s88-c-k-c0xffffffff-no-rj-mo'},\n",
       "     'medium': {'url': 'https://yt3.ggpht.com/fdTubhHCZenFEU9ccBlsUdvg4RLZNBhIYNk1YTH0WnMS1Qlja8WXFaAX3vY4UwgcOAFnh3-0Rw=s240-c-k-c0xffffffff-no-rj-mo'},\n",
       "     'high': {'url': 'https://yt3.ggpht.com/fdTubhHCZenFEU9ccBlsUdvg4RLZNBhIYNk1YTH0WnMS1Qlja8WXFaAX3vY4UwgcOAFnh3-0Rw=s800-c-k-c0xffffffff-no-rj-mo'}},\n",
       "    'channelTitle': 'Unacademy JEE',\n",
       "    'liveBroadcastContent': 'upcoming',\n",
       "    'publishTime': '2014-05-16T12:18:40Z'}},\n",
       "  {'kind': 'youtube#searchResult',\n",
       "   'etag': '5FKTkFV3aK_IV4tVcfrXtSGq8Rk',\n",
       "   'id': {'kind': 'youtube#channel', 'channelId': 'UCx1VY57UmjU76Tgq8YwkklA'},\n",
       "   'snippet': {'publishedAt': '2019-09-03T07:43:53Z',\n",
       "    'channelId': 'UCx1VY57UmjU76Tgq8YwkklA',\n",
       "    'title': 'Unacademy India',\n",
       "    'description': \"Unacademy is India's largest learning platform. Our vision is to partner with the brightest of minds and change the way India learns ...\",\n",
       "    'thumbnails': {'default': {'url': 'https://yt3.ggpht.com/ytc/AMLnZu9ZxeM2Pe5-JXaEpRHSth7tlDxE1LWNnMbJejU2tA=s88-c-k-c0xffffffff-no-rj-mo'},\n",
       "     'medium': {'url': 'https://yt3.ggpht.com/ytc/AMLnZu9ZxeM2Pe5-JXaEpRHSth7tlDxE1LWNnMbJejU2tA=s240-c-k-c0xffffffff-no-rj-mo'},\n",
       "     'high': {'url': 'https://yt3.ggpht.com/ytc/AMLnZu9ZxeM2Pe5-JXaEpRHSth7tlDxE1LWNnMbJejU2tA=s800-c-k-c0xffffffff-no-rj-mo'}},\n",
       "    'channelTitle': 'Unacademy India',\n",
       "    'liveBroadcastContent': 'upcoming',\n",
       "    'publishTime': '2019-09-03T07:43:53Z'}},\n",
       "  {'kind': 'youtube#searchResult',\n",
       "   'etag': 'NeBFeoHPClbHT2NryXhmQd2kn7U',\n",
       "   'id': {'kind': 'youtube#channel', 'channelId': 'UCdQwYksctqqiRwqp3PiJMWA'},\n",
       "   'snippet': {'publishedAt': '2015-02-24T12:18:00Z',\n",
       "    'channelId': 'UCdQwYksctqqiRwqp3PiJMWA',\n",
       "    'title': 'Unacademy NEET',\n",
       "    'description': \"Unacademy.com is India's largest free education initiative. We believe in making high quality educational videos available for free ...\",\n",
       "    'thumbnails': {'default': {'url': 'https://yt3.ggpht.com/ytc/AMLnZu_q7WfF_HGwcc7JZcMkTjJeNIAvT7IZ4t4mbbr4ig=s88-c-k-c0xffffffff-no-rj-mo'},\n",
       "     'medium': {'url': 'https://yt3.ggpht.com/ytc/AMLnZu_q7WfF_HGwcc7JZcMkTjJeNIAvT7IZ4t4mbbr4ig=s240-c-k-c0xffffffff-no-rj-mo'},\n",
       "     'high': {'url': 'https://yt3.ggpht.com/ytc/AMLnZu_q7WfF_HGwcc7JZcMkTjJeNIAvT7IZ4t4mbbr4ig=s800-c-k-c0xffffffff-no-rj-mo'}},\n",
       "    'channelTitle': 'Unacademy NEET',\n",
       "    'liveBroadcastContent': 'upcoming',\n",
       "    'publishTime': '2015-02-24T12:18:00Z'}},\n",
       "  {'kind': 'youtube#searchResult',\n",
       "   'etag': '_zVGCSWeJl9KLBo4CjAN13ASBrc',\n",
       "   'id': {'kind': 'youtube#channel', 'channelId': 'UCABe2FgVNv2hgBeMu2mySVg'},\n",
       "   'snippet': {'publishedAt': '2010-12-26T17:56:26Z',\n",
       "    'channelId': 'UCABe2FgVNv2hgBeMu2mySVg',\n",
       "    'title': \"Let's Crack UPSC CSE\",\n",
       "    'description': \"Welcome to Let's Crack UPSC CSE, your one-stop solution for UPSC CSE preparation. India's top educators will be teaching you ...\",\n",
       "    'thumbnails': {'default': {'url': 'https://yt3.ggpht.com/ytc/AMLnZu_WmFHEGM8hlfU5W8DXghfuJ0fkZyqNO1zAgUmsSA=s88-c-k-c0xffffffff-no-rj-mo'},\n",
       "     'medium': {'url': 'https://yt3.ggpht.com/ytc/AMLnZu_WmFHEGM8hlfU5W8DXghfuJ0fkZyqNO1zAgUmsSA=s240-c-k-c0xffffffff-no-rj-mo'},\n",
       "     'high': {'url': 'https://yt3.ggpht.com/ytc/AMLnZu_WmFHEGM8hlfU5W8DXghfuJ0fkZyqNO1zAgUmsSA=s800-c-k-c0xffffffff-no-rj-mo'}},\n",
       "    'channelTitle': \"Let's Crack UPSC CSE\",\n",
       "    'liveBroadcastContent': 'upcoming',\n",
       "    'publishTime': '2010-12-26T17:56:26Z'}},\n",
       "  {'kind': 'youtube#searchResult',\n",
       "   'etag': 'Br9i5QBQ5McA_QM8iPp8bLMyI2I',\n",
       "   'id': {'kind': 'youtube#channel', 'channelId': 'UCV1lbzgZNcYFAT3VHKOb7Cg'},\n",
       "   'snippet': {'publishedAt': '2018-07-16T09:03:34Z',\n",
       "    'channelId': 'UCV1lbzgZNcYFAT3VHKOb7Cg',\n",
       "    'title': 'Unacademy UPSC',\n",
       "    'description': \"Welcome to Uncademy UPSC, your one-stop solution for UPSC CSE preparation. India's top educators will be teaching you daily ...\",\n",
       "    'thumbnails': {'default': {'url': 'https://yt3.ggpht.com/ytc/AMLnZu9huzacWJl2MnDyD-TvPHoXQFAbDdYMI8UoPfTb=s88-c-k-c0xffffffff-no-rj-mo'},\n",
       "     'medium': {'url': 'https://yt3.ggpht.com/ytc/AMLnZu9huzacWJl2MnDyD-TvPHoXQFAbDdYMI8UoPfTb=s240-c-k-c0xffffffff-no-rj-mo'},\n",
       "     'high': {'url': 'https://yt3.ggpht.com/ytc/AMLnZu9huzacWJl2MnDyD-TvPHoXQFAbDdYMI8UoPfTb=s800-c-k-c0xffffffff-no-rj-mo'}},\n",
       "    'channelTitle': 'Unacademy UPSC',\n",
       "    'liveBroadcastContent': 'upcoming',\n",
       "    'publishTime': '2018-07-16T09:03:34Z'}}]}"
      ]
     },
     "execution_count": 19,
     "metadata": {},
     "output_type": "execute_result"
    }
   ],
   "source": [
    "snippets"
   ]
  },
  {
   "cell_type": "code",
   "execution_count": 18,
   "id": "ef2385a7-d85f-4034-a4d6-f2f9e970040b",
   "metadata": {
    "collapsed": true,
    "jupyter": {
     "outputs_hidden": true
    },
    "tags": []
   },
   "outputs": [
    {
     "name": "stdout",
     "output_type": "stream",
     "text": [
      "Unacademy JEE\n",
      "Unacademy India\n",
      "Unacademy NEET\n",
      "Let's Crack UPSC CSE\n",
      "Unacademy UPSC\n"
     ]
    },
    {
     "ename": "IndexError",
     "evalue": "list index out of range",
     "output_type": "error",
     "traceback": [
      "\u001b[0;31m---------------------------------------------------------------------------\u001b[0m",
      "\u001b[0;31mIndexError\u001b[0m                                Traceback (most recent call last)",
      "Input \u001b[0;32mIn [18]\u001b[0m, in \u001b[0;36m<cell line: 1>\u001b[0;34m()\u001b[0m\n\u001b[1;32m      1\u001b[0m \u001b[38;5;28;01mfor\u001b[39;00m i \u001b[38;5;129;01min\u001b[39;00m \u001b[38;5;28mrange\u001b[39m(\u001b[38;5;241m0\u001b[39m,\u001b[38;5;241m10\u001b[39m):\n\u001b[0;32m----> 2\u001b[0m     \u001b[38;5;28mprint\u001b[39m(\u001b[43msnippets\u001b[49m\u001b[43m[\u001b[49m\u001b[38;5;124;43m'\u001b[39;49m\u001b[38;5;124;43mitems\u001b[39;49m\u001b[38;5;124;43m'\u001b[39;49m\u001b[43m]\u001b[49m\u001b[43m[\u001b[49m\u001b[43mi\u001b[49m\u001b[43m]\u001b[49m[\u001b[38;5;124m'\u001b[39m\u001b[38;5;124msnippet\u001b[39m\u001b[38;5;124m'\u001b[39m][\u001b[38;5;124m'\u001b[39m\u001b[38;5;124mtitle\u001b[39m\u001b[38;5;124m'\u001b[39m])\n",
      "\u001b[0;31mIndexError\u001b[0m: list index out of range"
     ]
    }
   ],
   "source": [
    "for i in range(0,10):\n",
    "    print(snippets['items'][i]['snippet']['title'])"
   ]
  },
  {
   "cell_type": "code",
   "execution_count": 7,
   "id": "ef23bec8-41a4-4b3b-80f8-20c8c888bd70",
   "metadata": {},
   "outputs": [
    {
     "name": "stdout",
     "output_type": "stream",
     "text": [
      "Channel Id of the first channel is UCZNNx4KYmCkwxCLdsHyWqQA\n"
     ]
    }
   ],
   "source": [
    "channelId = snippets['items'][0]['snippet']['channelId']\n",
    "print(\"Channel Id of the first channel is \" + channelId)"
   ]
  },
  {
   "cell_type": "code",
   "execution_count": 22,
   "id": "bad8b7bd-15a0-49ec-bea8-d16be55ed078",
   "metadata": {},
   "outputs": [],
   "source": [
    "#channelId = 'UCX6OQ3DkcsbYNE6H8uQQuVA'\n",
    "\n",
    "channelId = 'UCiGyWN6DEbnj2alu7iapuKQ'\n",
    "\n",
    "channelId = 'UCZNNx4KYmCkwxCLdsHyWqQA'"
   ]
  },
  {
   "cell_type": "code",
   "execution_count": 36,
   "id": "12160e26-2fc1-4723-ab33-733d30af41b9",
   "metadata": {
    "collapsed": true,
    "jupyter": {
     "outputs_hidden": true
    },
    "tags": []
   },
   "outputs": [
    {
     "ename": "NameError",
     "evalue": "name 'snippets' is not defined",
     "output_type": "error",
     "traceback": [
      "\u001b[0;31m---------------------------------------------------------------------------\u001b[0m",
      "\u001b[0;31mNameError\u001b[0m                                 Traceback (most recent call last)",
      "Input \u001b[0;32mIn [36]\u001b[0m, in \u001b[0;36m<cell line: 1>\u001b[0;34m()\u001b[0m\n\u001b[0;32m----> 1\u001b[0m \u001b[38;5;28mprint\u001b[39m(\u001b[38;5;124m\"\u001b[39m\u001b[38;5;124mChannel \u001b[39m\u001b[38;5;124m\"\u001b[39m \u001b[38;5;241m+\u001b[39m \u001b[43msnippets\u001b[49m[\u001b[38;5;124m'\u001b[39m\u001b[38;5;124mitems\u001b[39m\u001b[38;5;124m'\u001b[39m][\u001b[38;5;241m0\u001b[39m][\u001b[38;5;124m'\u001b[39m\u001b[38;5;124msnippet\u001b[39m\u001b[38;5;124m'\u001b[39m][\u001b[38;5;124m'\u001b[39m\u001b[38;5;124mtitle\u001b[39m\u001b[38;5;124m'\u001b[39m] \u001b[38;5;241m+\u001b[39m \u001b[38;5;124m\"\u001b[39m\u001b[38;5;124m is published at \u001b[39m\u001b[38;5;124m\"\u001b[39m \u001b[38;5;241m+\u001b[39m snippets[\u001b[38;5;124m'\u001b[39m\u001b[38;5;124mitems\u001b[39m\u001b[38;5;124m'\u001b[39m][\u001b[38;5;241m0\u001b[39m][\u001b[38;5;124m'\u001b[39m\u001b[38;5;124msnippet\u001b[39m\u001b[38;5;124m'\u001b[39m][\u001b[38;5;124m'\u001b[39m\u001b[38;5;124mpublishedAt\u001b[39m\u001b[38;5;124m'\u001b[39m])\n\u001b[1;32m      2\u001b[0m \u001b[38;5;28mprint\u001b[39m(\u001b[38;5;124m\"\u001b[39m\u001b[38;5;124mHere is the description available at the channel page on youtube \u001b[39m\u001b[38;5;130;01m\\n\u001b[39;00m\u001b[38;5;124m\"\u001b[39m)\n\u001b[1;32m      4\u001b[0m \u001b[38;5;28mprint\u001b[39m(snippets[\u001b[38;5;124m'\u001b[39m\u001b[38;5;124mitems\u001b[39m\u001b[38;5;124m'\u001b[39m][\u001b[38;5;241m0\u001b[39m][\u001b[38;5;124m'\u001b[39m\u001b[38;5;124msnippet\u001b[39m\u001b[38;5;124m'\u001b[39m][\u001b[38;5;124m'\u001b[39m\u001b[38;5;124mdescription\u001b[39m\u001b[38;5;124m'\u001b[39m])\n",
      "\u001b[0;31mNameError\u001b[0m: name 'snippets' is not defined"
     ]
    }
   ],
   "source": [
    "print(\"Channel \" + snippets['items'][0]['snippet']['title'] + \" is published at \" + snippets['items'][0]['snippet']['publishedAt'])\n",
    "print(\"Here is the description available at the channel page on youtube \\n\")\n",
    "\n",
    "print(snippets['items'][0]['snippet']['description'])"
   ]
  },
  {
   "cell_type": "code",
   "execution_count": 23,
   "id": "156fc264-bb79-4ba7-ac3d-c4b83d0c6e01",
   "metadata": {},
   "outputs": [],
   "source": [
    "stats = youtube.channels().list(part = \"statistics\", id = channelId).execute()"
   ]
  },
  {
   "cell_type": "code",
   "execution_count": 26,
   "id": "acc53cc3-8f98-4c0c-a7d2-deb2985b14fe",
   "metadata": {},
   "outputs": [
    {
     "name": "stdout",
     "output_type": "stream",
     "text": [
      "{'kind': 'youtube#channelListResponse', 'etag': 'bciDHt3gQd0C2SKAHs0mKjO_SkQ', 'pageInfo': {'totalResults': 1, 'resultsPerPage': 5}, 'items': [{'kind': 'youtube#channel', 'etag': 'sGZI8-qFWV6fvCwFezOR010JOQg', 'id': 'UCZNNx4KYmCkwxCLdsHyWqQA', 'contentDetails': {'relatedPlaylists': {'likes': '', 'uploads': 'UUZNNx4KYmCkwxCLdsHyWqQA'}}}]}\n"
     ]
    }
   ],
   "source": [
    "content = youtube.channels().list(id = channelId, part = 'contentDetails').execute()\n",
    "print(content)"
   ]
  },
  {
   "cell_type": "code",
   "execution_count": 29,
   "id": "59abc515-af8d-48c6-9cc9-f3f27743ce0b",
   "metadata": {},
   "outputs": [
    {
     "name": "stdout",
     "output_type": "stream",
     "text": [
      "UUZNNx4KYmCkwxCLdsHyWqQA\n"
     ]
    }
   ],
   "source": [
    "UploadId = content['items'][0]['contentDetails']['relatedPlaylists']['uploads']\n",
    "\n",
    "print(UploadId)"
   ]
  },
  {
   "cell_type": "code",
   "execution_count": 33,
   "id": "e3eb404b-2d90-4a28-87c6-c45283b91fe1",
   "metadata": {},
   "outputs": [],
   "source": [
    "allVideos = []\n",
    "nextPage_token = None\n",
    "\n",
    "res = youtube.playlistItems().list(playlistId = UploadId, maxResults = 50, part = 'snippet', pageToken = nextPage_token).execute()\n",
    "allVideos += res['items']"
   ]
  },
  {
   "cell_type": "code",
   "execution_count": 43,
   "id": "4510d760-4260-4913-b42b-67d84fd78023",
   "metadata": {
    "collapsed": true,
    "jupyter": {
     "outputs_hidden": true
    },
    "tags": []
   },
   "outputs": [
    {
     "ename": "KeyError",
     "evalue": "'snippet'",
     "output_type": "error",
     "traceback": [
      "\u001b[0;31m---------------------------------------------------------------------------\u001b[0m",
      "\u001b[0;31mKeyError\u001b[0m                                  Traceback (most recent call last)",
      "Input \u001b[0;32mIn [43]\u001b[0m, in \u001b[0;36m<cell line: 14>\u001b[0;34m()\u001b[0m\n\u001b[1;32m     20\u001b[0m publishedDate\u001b[38;5;241m.\u001b[39mappend((allVideos[i][\u001b[38;5;124m'\u001b[39m\u001b[38;5;124msnippet\u001b[39m\u001b[38;5;124m'\u001b[39m][\u001b[38;5;124m'\u001b[39m\u001b[38;5;124mpublishedAt\u001b[39m\u001b[38;5;124m'\u001b[39m][\u001b[38;5;241m0\u001b[39m:\u001b[38;5;241m10\u001b[39m]))\n\u001b[1;32m     21\u001b[0m videoId\u001b[38;5;241m.\u001b[39mappend((allVideos[i][\u001b[38;5;124m'\u001b[39m\u001b[38;5;124msnippet\u001b[39m\u001b[38;5;124m'\u001b[39m][\u001b[38;5;124m'\u001b[39m\u001b[38;5;124mresourceId\u001b[39m\u001b[38;5;124m'\u001b[39m][\u001b[38;5;124m'\u001b[39m\u001b[38;5;124mvideoId\u001b[39m\u001b[38;5;124m'\u001b[39m]))\n\u001b[0;32m---> 23\u001b[0m channelTitle\u001b[38;5;241m.\u001b[39mappend(\u001b[43mres\u001b[49m\u001b[43m[\u001b[49m\u001b[38;5;124;43m'\u001b[39;49m\u001b[38;5;124;43mitems\u001b[39;49m\u001b[38;5;124;43m'\u001b[39;49m\u001b[43m]\u001b[49m\u001b[43m[\u001b[49m\u001b[43mi\u001b[49m\u001b[43m]\u001b[49m\u001b[43m[\u001b[49m\u001b[38;5;124;43m'\u001b[39;49m\u001b[38;5;124;43msnippet\u001b[39;49m\u001b[38;5;124;43m'\u001b[39;49m\u001b[43m]\u001b[49m[\u001b[38;5;124m'\u001b[39m\u001b[38;5;124mchannelTitle\u001b[39m\u001b[38;5;124m'\u001b[39m])\n\u001b[1;32m     26\u001b[0m \u001b[38;5;66;03m#videoId1.append(res['items'][i]['id'])\u001b[39;00m\n\u001b[1;32m     27\u001b[0m \u001b[38;5;66;03m#views.append(res['items'][i]['statistics']['viewCount'])\u001b[39;00m\n\u001b[1;32m     28\u001b[0m \u001b[38;5;66;03m#liked.append(res['items'][i]['statistics']['commentCount'])\u001b[39;00m\n\u001b[1;32m     30\u001b[0m videoId1\u001b[38;5;241m.\u001b[39mappend(stats[i][\u001b[38;5;124m'\u001b[39m\u001b[38;5;124mid\u001b[39m\u001b[38;5;124m'\u001b[39m])\n",
      "\u001b[0;31mKeyError\u001b[0m: 'snippet'"
     ]
    }
   ],
   "source": [
    "title = []\n",
    "liked =[]\n",
    "disliked = []\n",
    "views = []\n",
    "url = []\n",
    "comment = []\n",
    "videoId = []\n",
    "videoId1 = []\n",
    "\n",
    "\n",
    "publishedDate = []\n",
    "video_Description = []\n",
    "\n",
    "for i in range(0, len(stats)):\n",
    "    #i+=1\n",
    "    #print(i)\n",
    "\n",
    "    title.append((allVideos[i]['snippet']['title']))\n",
    "    video_Description.append((allVideos[i]['snippet']['description']))\n",
    "    publishedDate.append((allVideos[i]['snippet']['publishedAt'][0:10]))\n",
    "    videoId.append((allVideos[i]['snippet']['resourceId']['videoId']))\n",
    "    \n",
    "    channelTitle.append(res['items'][i]['snippet']['channelTitle'])\n",
    "\n",
    "\n",
    "    #videoId1.append(res['items'][i]['id'])\n",
    "    #views.append(res['items'][i]['statistics']['viewCount'])\n",
    "    #liked.append(res['items'][i]['statistics']['commentCount'])\n",
    "    \n",
    "    videoId1.append(stats[i]['id'])\n",
    "    \n",
    "    views.append(stats[i]['statistics']['viewCount'])\n",
    "    try:\n",
    "        liked.append(stats[i]['statistics']['likeCount'])\n",
    "    except:\n",
    "        liked.append('NA')\n",
    "    try:\n",
    "        comment.append(stats[i]['statistics']['commentCount'])\n",
    "    except:\n",
    "        comment.append('NA')\n",
    "    \n"
   ]
  },
  {
   "cell_type": "code",
   "execution_count": 21,
   "id": "8d2cf7f9-ac9a-4807-9022-dd58de52bd6c",
   "metadata": {},
   "outputs": [],
   "source": [
    "dtf1 = pd.DataFrame(list(zip(title,  video_Description, publishedDate , videoId  )), \n",
    "                        columns =['Title',  'Description', 'Date', 'ID'])\n",
    "\n",
    "\n",
    "dtf2 = pd.DataFrame(list(zip(videoId1, views,   liked, comment  )), \n",
    "                        columns =[ 'ID', 'Views', 'Likes', 'Comment']) \n",
    "\n",
    "dtf = pd.merge(dtf1, dtf2, on='ID')\n",
    "\n"
   ]
  }
 ],
 "metadata": {
  "kernelspec": {
   "display_name": "Python 3 (ipykernel)",
   "language": "python",
   "name": "python3"
  },
  "language_info": {
   "codemirror_mode": {
    "name": "ipython",
    "version": 3
   },
   "file_extension": ".py",
   "mimetype": "text/x-python",
   "name": "python",
   "nbconvert_exporter": "python",
   "pygments_lexer": "ipython3",
   "version": "3.9.7"
  }
 },
 "nbformat": 4,
 "nbformat_minor": 5
}
